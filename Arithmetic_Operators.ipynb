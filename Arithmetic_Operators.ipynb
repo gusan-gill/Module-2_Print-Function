{
  "nbformat": 4,
  "nbformat_minor": 0,
  "metadata": {
    "colab": {
      "provenance": [],
      "authorship_tag": "ABX9TyPtPpykNwzzkNP88yJfEyKb",
      "include_colab_link": true
    },
    "kernelspec": {
      "name": "python3",
      "display_name": "Python 3"
    },
    "language_info": {
      "name": "python"
    }
  },
  "cells": [
    {
      "cell_type": "markdown",
      "metadata": {
        "id": "view-in-github",
        "colab_type": "text"
      },
      "source": [
        "<a href=\"https://colab.research.google.com/github/gusan-gill/Module-2_Print-Function/blob/main/Arithmetic_Operators.ipynb\" target=\"_parent\"><img src=\"https://colab.research.google.com/assets/colab-badge.svg\" alt=\"Open In Colab\"/></a>"
      ]
    },
    {
      "cell_type": "markdown",
      "source": [
        "This is the (double slash)divisional operator. It conforms to the int vs float rule."
      ],
      "metadata": {
        "id": "BJXTaMg_HEnq"
      }
    },
    {
      "cell_type": "code",
      "execution_count": 1,
      "metadata": {
        "colab": {
          "base_uri": "https://localhost:8080/"
        },
        "id": "JzhKa3TYGuEL",
        "outputId": "ba66bc68-a304-4309-9add-41d702e526f9"
      },
      "outputs": [
        {
          "output_type": "stream",
          "name": "stdout",
          "text": [
            "2\n",
            "2.0\n",
            "2.0\n",
            "2.0\n"
          ]
        }
      ],
      "source": [
        "print(6 // 3)\n",
        "print(6 // 3.)\n",
        "print(6. // 3)\n",
        "print(6. // 3.)"
      ]
    },
    {
      "cell_type": "markdown",
      "source": [
        "rounding always goes to the lesser integer."
      ],
      "metadata": {
        "id": "Rrd2GRoqJAF2"
      }
    },
    {
      "cell_type": "code",
      "source": [
        "print(6 // 4)\n",
        "print(6. // 4)"
      ],
      "metadata": {
        "colab": {
          "base_uri": "https://localhost:8080/"
        },
        "id": "2_-a_ZACI_YR",
        "outputId": "90a90305-bcfe-4970-d236-e0a1ea17657d"
      },
      "execution_count": 2,
      "outputs": [
        {
          "output_type": "stream",
          "name": "stdout",
          "text": [
            "1\n",
            "1.0\n"
          ]
        }
      ]
    },
    {
      "cell_type": "markdown",
      "source": [
        "The result is two negative twos. The real (not rounded) result is -1.5 in both cases. However, the results are the subjects of rounding. The rounding goes toward the lesser integer value, and the lesser integer value is -2, hence: -2 and -2.0."
      ],
      "metadata": {
        "id": "uhbRmVhOPEAG"
      }
    },
    {
      "cell_type": "code",
      "source": [
        "print(-6 // 4)\n",
        "print(6. // -4)"
      ],
      "metadata": {
        "id": "tXbiq0W3PBp8"
      },
      "execution_count": null,
      "outputs": []
    },
    {
      "cell_type": "markdown",
      "source": [
        "print(14 % 4)\n",
        "\n",
        "\n",
        "As you can see, the result is two. This is why:\n",
        "\n",
        "14 // 4 gives 3 → this is the integer quotient;\n",
        "3 * 4 gives 12 → as a result of quotient and divisor multiplication;\n",
        "14 - 12 gives 2 → this is the remainder.\n"
      ],
      "metadata": {
        "id": "drPVvXJ-MSlW"
      }
    },
    {
      "cell_type": "code",
      "source": [
        "print(14 % 4)"
      ],
      "metadata": {
        "colab": {
          "base_uri": "https://localhost:8080/"
        },
        "id": "s0olIK5HNKYa",
        "outputId": "ad02be60-966f-4db7-efdc-a425144ef782"
      },
      "execution_count": 3,
      "outputs": [
        {
          "output_type": "stream",
          "name": "stdout",
          "text": [
            "2\n"
          ]
        }
      ]
    },
    {
      "cell_type": "markdown",
      "source": [
        "3.0 - not 3 but 3.0 (the rule still works: 12 // 4.5 gives 2.0; 2.0 * 4.5 gives 9.0; 12 - 9.0 gives 3.0)"
      ],
      "metadata": {
        "id": "MsIPHP-JQ1n5"
      }
    },
    {
      "cell_type": "code",
      "source": [
        "print(12 % 4.5)"
      ],
      "metadata": {
        "colab": {
          "base_uri": "https://localhost:8080/"
        },
        "id": "WNn7g5OQQ3oW",
        "outputId": "07a4a894-04a8-4eeb-b7e3-da753aea71b3"
      },
      "execution_count": 4,
      "outputs": [
        {
          "output_type": "stream",
          "name": "stdout",
          "text": [
            "3.0\n"
          ]
        }
      ]
    },
    {
      "cell_type": "markdown",
      "source": [
        "Subtraction Operator...In subtracting applications, the minus operator expects two arguments: the left (a minuend in arithmetical terms) and right (a subtrahend).I is viewed as one of the binary operators, just like the addition, multiplication and division operators."
      ],
      "metadata": {
        "id": "2lf6MFkQTrhN"
      }
    },
    {
      "cell_type": "code",
      "source": [
        "print(-4 + 4)\n",
        "print(-4. + 8)"
      ],
      "metadata": {
        "colab": {
          "base_uri": "https://localhost:8080/"
        },
        "id": "A2uUmx6WRaDW",
        "outputId": "a95937f8-fd50-4dd0-d40c-1914bfe34b4b"
      },
      "execution_count": 5,
      "outputs": [
        {
          "output_type": "stream",
          "name": "stdout",
          "text": [
            "0\n",
            "4.0\n"
          ]
        }
      ]
    },
    {
      "cell_type": "markdown",
      "source": [
        "The unary operator preserves the sign of its only argument - the right one."
      ],
      "metadata": {
        "id": "nE10i6ssUF2M"
      }
    },
    {
      "cell_type": "code",
      "source": [
        "print(+2)"
      ],
      "metadata": {
        "colab": {
          "base_uri": "https://localhost:8080/"
        },
        "id": "PYsnm6-8UDKQ",
        "outputId": "85073fa7-7fdf-4e8c-bf69-b0b261fad18c"
      },
      "execution_count": 6,
      "outputs": [
        {
          "output_type": "stream",
          "name": "stdout",
          "text": [
            "2\n"
          ]
        }
      ]
    }
  ]
}