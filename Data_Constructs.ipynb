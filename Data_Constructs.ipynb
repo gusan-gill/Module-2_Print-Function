{
  "nbformat": 4,
  "nbformat_minor": 0,
  "metadata": {
    "colab": {
      "provenance": [],
      "authorship_tag": "ABX9TyOmS6r2x/gNRsdizzzcSUyo",
      "include_colab_link": true
    },
    "kernelspec": {
      "name": "python3",
      "display_name": "Python 3"
    },
    "language_info": {
      "name": "python"
    }
  },
  "cells": [
    {
      "cell_type": "markdown",
      "metadata": {
        "id": "view-in-github",
        "colab_type": "text"
      },
      "source": [
        "<a href=\"https://colab.research.google.com/github/gusan-gill/Module-2_Print-Function/blob/main/Data_Constructs.ipynb\" target=\"_parent\"><img src=\"https://colab.research.google.com/assets/colab-badge.svg\" alt=\"Open In Colab\"/></a>"
      ]
    },
    {
      "cell_type": "code",
      "execution_count": null,
      "metadata": {
        "id": "4DTXCoE19A_L"
      },
      "outputs": [],
      "source": [
        "x=10\n",
        "if x%2==0:\n",
        "  print(\"This number is even!\")"
      ]
    },
    {
      "cell_type": "code",
      "source": [
        "x=1000\n",
        "if x%2==0:\n",
        "  print(\"This number is even\")\n",
        "else:\n",
        "    print(\"This number is an odd number!\")\n"
      ],
      "metadata": {
        "colab": {
          "base_uri": "https://localhost:8080/"
        },
        "id": "8i5hf7U594H4",
        "outputId": "5153bc80-e925-439b-b35e-873d7044f8cb"
      },
      "execution_count": null,
      "outputs": [
        {
          "output_type": "stream",
          "name": "stdout",
          "text": [
            "This number is even\n"
          ]
        }
      ]
    },
    {
      "cell_type": "code",
      "source": [],
      "metadata": {
        "id": "w9TKLaS3AVMK"
      },
      "execution_count": null,
      "outputs": []
    },
    {
      "cell_type": "code",
      "source": [
        "a=15\n",
        "b=12\n",
        "if a==b:\n",
        "  print(\"The two numbers are equal\")\n",
        "elif a<b:\n",
        "    print(\"the first number is smaller than the second\")\n",
        "else:\n",
        "  print(\"The fist number is greater than the second\")\n"
      ],
      "metadata": {
        "colab": {
          "base_uri": "https://localhost:8080/"
        },
        "id": "3LRZfYwr_UkR",
        "outputId": "3df7b353-9bdd-49f9-e6bc-d9e4c192f6db"
      },
      "execution_count": null,
      "outputs": [
        {
          "output_type": "stream",
          "name": "stdout",
          "text": [
            "The fist number is greater than the second\n"
          ]
        }
      ]
    },
    {
      "cell_type": "markdown",
      "source": [
        "if else elif"
      ],
      "metadata": {
        "id": "oB_d-Xp1Dnxy"
      }
    },
    {
      "cell_type": "code",
      "source": [
        "a= -1\n",
        "if a>0:\n",
        "  print(\"This number is positive\")\n",
        "elif a<0:\n",
        "  print(\"This number is negative\")\n",
        "else:\n",
        "  print(\"This number is 0\")\n"
      ],
      "metadata": {
        "colab": {
          "base_uri": "https://localhost:8080/"
        },
        "id": "ftmM4jwiC_kk",
        "outputId": "87ca89fa-aafe-4ced-f0b5-66fbb90e1be3"
      },
      "execution_count": null,
      "outputs": [
        {
          "output_type": "stream",
          "name": "stdout",
          "text": [
            "This number is negative\n"
          ]
        }
      ]
    },
    {
      "cell_type": "code",
      "source": [
        "for i in range(0,6):\n",
        "  print(i)\n"
      ],
      "metadata": {
        "colab": {
          "base_uri": "https://localhost:8080/"
        },
        "id": "n7NyBbW_Dkhv",
        "outputId": "2ad7d150-2231-4f32-9cc6-63ae6e13600b"
      },
      "execution_count": null,
      "outputs": [
        {
          "output_type": "stream",
          "name": "stdout",
          "text": [
            "0\n",
            "1\n",
            "2\n",
            "3\n",
            "4\n",
            "5\n"
          ]
        }
      ]
    },
    {
      "cell_type": "markdown",
      "source": [
        "For loop"
      ],
      "metadata": {
        "id": "eS5HsNBEEkcw"
      }
    },
    {
      "cell_type": "code",
      "source": [
        "for i in range(0,6):\n",
        "  print(\"the iteration number is{}\".format(i))"
      ],
      "metadata": {
        "colab": {
          "base_uri": "https://localhost:8080/"
        },
        "id": "KUfq4HU-EA6Q",
        "outputId": "fb8a98b1-4d3b-4365-86d6-17e672f4594b"
      },
      "execution_count": null,
      "outputs": [
        {
          "output_type": "stream",
          "name": "stdout",
          "text": [
            "the iteration number is0\n",
            "the iteration number is1\n",
            "the iteration number is2\n",
            "the iteration number is3\n",
            "the iteration number is4\n",
            "the iteration number is5\n"
          ]
        }
      ]
    },
    {
      "cell_type": "markdown",
      "source": [
        "While loop"
      ],
      "metadata": {
        "id": "6y6DngTpEnwp"
      }
    },
    {
      "cell_type": "code",
      "source": [
        "i=0\n",
        "while i<5:\n",
        "  print(i)\n",
        "  i=i+1\n",
        "print(\"The end\")\n",
        "\n"
      ],
      "metadata": {
        "colab": {
          "base_uri": "https://localhost:8080/"
        },
        "id": "ZMi-VEW_Erbu",
        "outputId": "0ab261e6-83e7-4c7a-ef71-0515631787a4"
      },
      "execution_count": null,
      "outputs": [
        {
          "output_type": "stream",
          "name": "stdout",
          "text": [
            "0\n",
            "1\n",
            "2\n",
            "3\n",
            "4\n",
            "The end\n"
          ]
        }
      ]
    },
    {
      "cell_type": "code",
      "source": [
        "targetvalue =5\n",
        "iterate =0\n",
        "while iterate<targetvalue:\n",
        "  print(\"Iteration number is {}, which is less than that target value {}\".format(iterate,targetvalue))\n",
        "  iterate =iterate+1"
      ],
      "metadata": {
        "colab": {
          "base_uri": "https://localhost:8080/"
        },
        "id": "7M8680waFrDe",
        "outputId": "804ad3b7-2dd0-4810-fedc-295864b2e603"
      },
      "execution_count": null,
      "outputs": [
        {
          "output_type": "stream",
          "name": "stdout",
          "text": [
            "Iteration number is 0, which is less than that target value 5\n",
            "Iteration number is 1, which is less than that target value 5\n",
            "Iteration number is 2, which is less than that target value 5\n",
            "Iteration number is 3, which is less than that target value 5\n",
            "Iteration number is 4, which is less than that target value 5\n"
          ]
        }
      ]
    },
    {
      "cell_type": "markdown",
      "source": [
        "Nested loops either for or while loops. "
      ],
      "metadata": {
        "id": "0VLpFgk4IiYF"
      }
    },
    {
      "cell_type": "code",
      "source": [
        "colours =[\"blue\",\"red\",\"black\"]\n",
        "cars=[\"Audi\",\"Ford\",\"BMW\"]\n",
        "for colour in colours:#outer loop\n",
        "  for car in cars:#inner loop\n",
        "    print(colour, car)\n"
      ],
      "metadata": {
        "colab": {
          "base_uri": "https://localhost:8080/"
        },
        "id": "M1lhuS1XIuyf",
        "outputId": "22178ab2-e5b0-44e4-c5bb-55cfd58a79fb"
      },
      "execution_count": null,
      "outputs": [
        {
          "output_type": "stream",
          "name": "stdout",
          "text": [
            "blue Audi\n",
            "blue Ford\n",
            "blue BMW\n",
            "red Audi\n",
            "red Ford\n",
            "red BMW\n",
            "black Audi\n",
            "black Ford\n",
            "black BMW\n"
          ]
        }
      ]
    },
    {
      "cell_type": "code",
      "source": [
        "fruit =[\"apples\",\"pears\",\"bannanas\"]\n",
        "containers=[\"White\",\"Blue\",\"Green\"]\n",
        "for fruit in fruit:#outer loop\n",
        "  for containers in containers:#inner loop\n",
        "    print(fruit,containers)\n",
        "      "
      ],
      "metadata": {
        "colab": {
          "base_uri": "https://localhost:8080/"
        },
        "id": "p-Pu7kuhN5Bp",
        "outputId": "aefd3c87-bb80-4756-e598-17d7c1ef253c"
      },
      "execution_count": null,
      "outputs": [
        {
          "output_type": "stream",
          "name": "stdout",
          "text": [
            "apples White\n",
            "apples Blue\n",
            "apples Green\n",
            "pears G\n",
            "pears r\n",
            "pears e\n",
            "pears e\n",
            "pears n\n",
            "bannanas n\n"
          ]
        }
      ]
    },
    {
      "cell_type": "code",
      "source": [
        "for i in range(1,6):\n",
        "  for j in range(1,11):\n",
        "    print(i*j,end=\" \")\n",
        "  print()\n",
        "    "
      ],
      "metadata": {
        "colab": {
          "base_uri": "https://localhost:8080/"
        },
        "id": "diLbNyGtKYZm",
        "outputId": "de4bfecf-1f96-4f0c-b4b3-656c4518dba2"
      },
      "execution_count": null,
      "outputs": [
        {
          "output_type": "stream",
          "name": "stdout",
          "text": [
            "1 2 3 4 5 6 7 8 9 10 \n",
            "2 4 6 8 10 12 14 16 18 20 \n",
            "3 6 9 12 15 18 21 24 27 30 \n",
            "4 8 12 16 20 24 28 32 36 40 \n",
            "5 10 15 20 25 30 35 40 45 50 \n"
          ]
        }
      ]
    },
    {
      "cell_type": "markdown",
      "source": [
        "**Break** To stop prematurely.\n",
        "You are programming and are looking for something, you use a break to stop once you have found what you want"
      ],
      "metadata": {
        "id": "3RzBANY9QDNI"
      }
    },
    {
      "cell_type": "code",
      "source": [
        "targetvalue =6\n",
        "iterate =0\n",
        "while iterate<targetvalue:\n",
        "  if iterate==3:\n",
        "    break\n",
        "  iterate =iterate+1\n",
        "  print(\"Iteration number is {}, which is less than that target value {}\".format(iterate,targetvalue))\n"
      ],
      "metadata": {
        "colab": {
          "base_uri": "https://localhost:8080/"
        },
        "id": "79NytpllQBEk",
        "outputId": "ab048f80-b0e3-4692-d2cc-e79faba8e52c"
      },
      "execution_count": null,
      "outputs": [
        {
          "output_type": "stream",
          "name": "stdout",
          "text": [
            "Iteration number is 1, which is less than that target value 6\n",
            "Iteration number is 2, which is less than that target value 6\n",
            "Iteration number is 3, which is less than that target value 6\n"
          ]
        }
      ]
    },
    {
      "cell_type": "markdown",
      "source": [
        "Continuous statements - keeps all values except the one that is a mistake\n",
        "You can get python to skip the mistake and print every other value"
      ],
      "metadata": {
        "id": "UFJwr0v7Q26I"
      }
    },
    {
      "cell_type": "code",
      "source": [
        "targetvalue =6\n",
        "iterate =0\n",
        "while iterate<targetvalue:\n",
        "  iterate=iterate+1\n",
        "  if iterate==3:\n",
        "    continue\n",
        "  print(\"The iteration value is {}, which is less than the target value {}\".format(iterate,targetvalue))\n",
        "\n",
        " "
      ],
      "metadata": {
        "colab": {
          "base_uri": "https://localhost:8080/"
        },
        "id": "b1Mp-_j9Q-OR",
        "outputId": "0cf36e7d-cd77-4479-a2d0-10c1a5c8ecd4"
      },
      "execution_count": null,
      "outputs": [
        {
          "output_type": "stream",
          "name": "stdout",
          "text": [
            "The iteration value is 1, which is less than the target value 6\n",
            "The iteration value is 2, which is less than the target value 6\n",
            "The iteration value is 4, which is less than the target value 6\n",
            "The iteration value is 5, which is less than the target value 6\n",
            "The iteration value is 6, which is less than the target value 6\n"
          ]
        }
      ]
    },
    {
      "cell_type": "code",
      "source": [
        "targetvalue =6\n",
        "iterate =0\n",
        "while iterate<targetvalue:\n",
        "  iterate=iterate+1\n",
        "  if iterate>=3 and iterate<=5:\n",
        "    continue\n",
        "  print(\"The iteration value is {}, which is less than the target value {}\".format(iterate,targetvalue))\n",
        "  "
      ],
      "metadata": {
        "colab": {
          "base_uri": "https://localhost:8080/"
        },
        "id": "ZB9dLby5UW_k",
        "outputId": "a9cf15d1-eb41-4774-d21f-542161dd26d5"
      },
      "execution_count": null,
      "outputs": [
        {
          "output_type": "stream",
          "name": "stdout",
          "text": [
            "The iteration value is 1, which is less than the target value 6\n",
            "The iteration value is 2, which is less than the target value 6\n",
            "The iteration value is 6, which is less than the target value 6\n"
          ]
        }
      ]
    },
    {
      "cell_type": "markdown",
      "source": [
        "Data Types - Lists, Tuples, Sets and Dictionaries\n",
        "Lists are ordered, accessible using indexing. It allows duplicate values. Can contain Boolean, integers\n",
        "Tupple is an ordered collection and is immutable\n",
        "Set is ordered and immutable, does not allow duplicates\n",
        "Dictionaries, ordered and mutable, does not allow \n"
      ],
      "metadata": {
        "id": "5qWuoSGqVc0M"
      }
    },
    {
      "cell_type": "code",
      "source": [
        "mylist=[\"Michaell\", \"Sean\", \"Adam\",]\n",
        "print(mylist)"
      ],
      "metadata": {
        "colab": {
          "base_uri": "https://localhost:8080/"
        },
        "id": "EkUdoPQ7Xvgy",
        "outputId": "3087b858-3524-4218-f825-e8b8b8c2139c"
      },
      "execution_count": null,
      "outputs": [
        {
          "output_type": "stream",
          "name": "stdout",
          "text": [
            "['Michaell', 'Sean', 'Adam']\n"
          ]
        }
      ]
    },
    {
      "cell_type": "code",
      "source": [
        "mylist=[\"Michaell\", \"Sean\", \"Adam\",]\n",
        "mylist[0]"
      ],
      "metadata": {
        "colab": {
          "base_uri": "https://localhost:8080/",
          "height": 35
        },
        "id": "Jwlgb78oYm5L",
        "outputId": "7c5d68a6-6183-4a00-f9af-fcacd34874a9"
      },
      "execution_count": null,
      "outputs": [
        {
          "output_type": "execute_result",
          "data": {
            "text/plain": [
              "'Michaell'"
            ],
            "application/vnd.google.colaboratory.intrinsic+json": {
              "type": "string"
            }
          },
          "metadata": {},
          "execution_count": 67
        }
      ]
    },
    {
      "cell_type": "code",
      "source": [
        "mylist=[\"Michaell\", \"Sean\", \"Adam\",5000, True]\n",
        "type(mylist)"
      ],
      "metadata": {
        "colab": {
          "base_uri": "https://localhost:8080/"
        },
        "id": "AHUjxUxpY3WC",
        "outputId": "5fb621a2-b399-426e-983a-034b662048d3"
      },
      "execution_count": null,
      "outputs": [
        {
          "output_type": "execute_result",
          "data": {
            "text/plain": [
              "list"
            ]
          },
          "metadata": {},
          "execution_count": 68
        }
      ]
    },
    {
      "cell_type": "code",
      "source": [
        "mylist=[\"Michaell\", \"Sean\", \"Adam\",5000, True]\n",
        "mylist[0]=\"John\"\n",
        "print(mylist)"
      ],
      "metadata": {
        "colab": {
          "base_uri": "https://localhost:8080/"
        },
        "id": "5XPu1HyQZDMK",
        "outputId": "77bf5910-d757-410b-ca2a-36a486935b2a"
      },
      "execution_count": null,
      "outputs": [
        {
          "output_type": "stream",
          "name": "stdout",
          "text": [
            "['John', 'Sean', 'Adam', 5000, True]\n"
          ]
        }
      ]
    },
    {
      "cell_type": "code",
      "source": [
        "mylist=[\"Michaell\", \"Sean\", \"Adam\",5000, True]\n",
        "mylist[1:3]"
      ],
      "metadata": {
        "colab": {
          "base_uri": "https://localhost:8080/"
        },
        "id": "QfTbahFjZSsl",
        "outputId": "5baa3b06-b300-4190-a798-2fadabc4e077"
      },
      "execution_count": null,
      "outputs": [
        {
          "output_type": "execute_result",
          "data": {
            "text/plain": [
              "['Sean', 'Adam']"
            ]
          },
          "metadata": {},
          "execution_count": 70
        }
      ]
    },
    {
      "cell_type": "markdown",
      "source": [
        "Do this if you want to measure the length of you length"
      ],
      "metadata": {
        "id": "RhaaPOjvZmRe"
      }
    },
    {
      "cell_type": "code",
      "source": [],
      "metadata": {
        "id": "jDrSjfM8ZrSA"
      },
      "execution_count": null,
      "outputs": []
    },
    {
      "cell_type": "code",
      "source": [
        "mylist=[\"Michaell\", \"Sean\", \"Adam\",5000, True]\n",
        "print(len(mylist))"
      ],
      "metadata": {
        "colab": {
          "base_uri": "https://localhost:8080/"
        },
        "id": "JA-cJ72mZdQI",
        "outputId": "9836103c-4612-41c1-add6-8399924eca10"
      },
      "execution_count": null,
      "outputs": [
        {
          "output_type": "stream",
          "name": "stdout",
          "text": [
            "5\n"
          ]
        }
      ]
    },
    {
      "cell_type": "markdown",
      "source": [
        "To find a value in a list"
      ],
      "metadata": {
        "id": "aNgN8rJOZ5ye"
      }
    },
    {
      "cell_type": "code",
      "source": [
        "mylist=[\"Michaell\", \"Sean\", \"Adam\",5000, True]\n",
        "if \"Sean\" in mylist:\n",
        "  print(\"Yes the element exists\")"
      ],
      "metadata": {
        "colab": {
          "base_uri": "https://localhost:8080/"
        },
        "id": "_Ql1IWvOZtX2",
        "outputId": "95d56f6d-3dc2-4644-c38a-e73a9af7f7fd"
      },
      "execution_count": null,
      "outputs": [
        {
          "output_type": "stream",
          "name": "stdout",
          "text": [
            "Yes the element exists\n"
          ]
        }
      ]
    },
    {
      "cell_type": "markdown",
      "source": [
        "insert a *method* specify the index whre you want to insert the list"
      ],
      "metadata": {
        "id": "rU3ggSSmaF8c"
      }
    },
    {
      "cell_type": "code",
      "source": [
        "mylist=[\"Michaell\", \"Sean\", \"Adam\",5000, True]\n",
        "mylist.insert(1,\"John\")\n",
        "print(mylist)"
      ],
      "metadata": {
        "colab": {
          "base_uri": "https://localhost:8080/"
        },
        "id": "hSEkvvrJaId1",
        "outputId": "9241fa9a-89cf-4b6e-ef81-97d84eef63f7"
      },
      "execution_count": null,
      "outputs": [
        {
          "output_type": "stream",
          "name": "stdout",
          "text": [
            "['Michaell', 'John', 'Sean', 'Adam', 5000, True]\n"
          ]
        }
      ]
    },
    {
      "cell_type": "code",
      "source": [
        "mylist=[\"Michaell\", \"Sean\", \"Adam\",5000, True]\n",
        "mylist.insert(3, \"Michell\")\n",
        "print(mylist)"
      ],
      "metadata": {
        "colab": {
          "base_uri": "https://localhost:8080/"
        },
        "id": "98b_FoBia1t8",
        "outputId": "168bd901-5a27-4b97-e6fa-39112704878c"
      },
      "execution_count": null,
      "outputs": [
        {
          "output_type": "stream",
          "name": "stdout",
          "text": [
            "['Michaell', 'Sean', 'Adam', 'Michell', 5000, True]\n"
          ]
        }
      ]
    },
    {
      "cell_type": "markdown",
      "source": [
        "Append to add item to the end of the list"
      ],
      "metadata": {
        "id": "0Ska-zPhah8x"
      }
    },
    {
      "cell_type": "code",
      "source": [
        "mylist=[\"Michaell\", \"Sean\", \"Adam\",5000, True]\n",
        "mylist.append(\"Zara\")\n",
        "print(mylist)"
      ],
      "metadata": {
        "colab": {
          "base_uri": "https://localhost:8080/"
        },
        "id": "c3Wp8KcLalNk",
        "outputId": "a19b88b3-1814-42a3-9fe2-6030ee7fac2b"
      },
      "execution_count": null,
      "outputs": [
        {
          "output_type": "stream",
          "name": "stdout",
          "text": [
            "['Michaell', 'Sean', 'Adam', 5000, True, 'Zara']\n"
          ]
        }
      ]
    },
    {
      "cell_type": "code",
      "source": [
        "mylist=[\"Michaell\", \"Sean\", \"Adam\",5000, True]\n",
        "mylist.append(\"Peter\")\n",
        "print(mylist)"
      ],
      "metadata": {
        "colab": {
          "base_uri": "https://localhost:8080/"
        },
        "id": "hjyCqy_2bKRY",
        "outputId": "81569ffa-77e8-493d-a53c-bdcb7231ad98"
      },
      "execution_count": null,
      "outputs": [
        {
          "output_type": "stream",
          "name": "stdout",
          "text": [
            "['Michaell', 'Sean', 'Adam', 5000, True, 'Peter']\n"
          ]
        }
      ]
    },
    {
      "cell_type": "code",
      "source": [
        "mylist1=[\"Michaell\", \"Sean\", \"Adam\",5000, True]\n",
        "mylist2=[\"Zara\", \"Paul\", \"John\"]\n",
        "mylist2.extend(mylist1)\n",
        "print(mylist2)"
      ],
      "metadata": {
        "colab": {
          "base_uri": "https://localhost:8080/"
        },
        "id": "TL1Kt-9WbcSw",
        "outputId": "26debf2b-d7af-49cf-b9f9-8d6bf442a460"
      },
      "execution_count": null,
      "outputs": [
        {
          "output_type": "stream",
          "name": "stdout",
          "text": [
            "['Zara', 'Paul', 'John', 'Michaell', 'Sean', 'Adam', 5000, True]\n"
          ]
        }
      ]
    },
    {
      "cell_type": "markdown",
      "source": [
        "To remove from the list"
      ],
      "metadata": {
        "id": "jEJqzIjHcEKn"
      }
    },
    {
      "cell_type": "code",
      "source": [
        "mylist=[\"Michaell\", \"Sean\", \"Adam\",5000, True]#removes a certain index\n",
        "mylist.remove(5000)\n",
        "print(mylist)"
      ],
      "metadata": {
        "colab": {
          "base_uri": "https://localhost:8080/"
        },
        "id": "l46H1yelb7-D",
        "outputId": "4160b780-14fb-4e3a-d217-57ba41bfb83a"
      },
      "execution_count": null,
      "outputs": [
        {
          "output_type": "stream",
          "name": "stdout",
          "text": [
            "['Michaell', 'Sean', 'Adam', True]\n"
          ]
        }
      ]
    },
    {
      "cell_type": "markdown",
      "source": [
        "Pop you have to indicate the index you want to be removed. if not it will remove last element"
      ],
      "metadata": {
        "id": "QFLDkrfqcJPI"
      }
    },
    {
      "cell_type": "code",
      "source": [
        "mylist=[\"Michaell\", \"Sean\", \"Adam\",5000, True]#specified index\n",
        "mylist.pop(4)\n",
        "print(mylist)"
      ],
      "metadata": {
        "colab": {
          "base_uri": "https://localhost:8080/"
        },
        "id": "B3yzhqvJcHRl",
        "outputId": "8a1e68f5-89a0-45e0-b7ac-490079b92edd"
      },
      "execution_count": null,
      "outputs": [
        {
          "output_type": "stream",
          "name": "stdout",
          "text": [
            "['Michaell', 'Sean', 'Adam', 5000]\n"
          ]
        }
      ]
    },
    {
      "cell_type": "code",
      "source": [
        "mylist=[\"Michaell\", \"Sean\", \"Adam\",5000, True]#automatically removes last element\n",
        "mylist.pop()\n",
        "print(mylist)"
      ],
      "metadata": {
        "colab": {
          "base_uri": "https://localhost:8080/"
        },
        "id": "6j3soR-fccBa",
        "outputId": "102369f2-1baa-4628-f236-adf29b1fea8f"
      },
      "execution_count": null,
      "outputs": [
        {
          "output_type": "stream",
          "name": "stdout",
          "text": [
            "['Michaell', 'Sean', 'Adam', 5000]\n"
          ]
        }
      ]
    },
    {
      "cell_type": "markdown",
      "source": [
        "Sort: sort method sorts the list alphabetically, numeric order from smallest to the largest. There is no decending function in Python"
      ],
      "metadata": {
        "id": "prA6-SBAc39q"
      }
    },
    {
      "cell_type": "code",
      "source": [
        "#sort\n",
        "mylist=[\"Michaell\", \"Sean\", \"Adam\"]#ascending\n",
        "mylist.sort()\n",
        "print(mylist)"
      ],
      "metadata": {
        "colab": {
          "base_uri": "https://localhost:8080/"
        },
        "id": "yfXZGy37dDoP",
        "outputId": "c701bf77-95ed-4c15-fb8c-af4514574b2f"
      },
      "execution_count": null,
      "outputs": [
        {
          "output_type": "stream",
          "name": "stdout",
          "text": [
            "['Adam', 'Michaell', 'Sean']\n"
          ]
        }
      ]
    },
    {
      "cell_type": "code",
      "source": [
        "#sort\n",
        "mylist=[\"Michaell\", \"Sean\", \"Adam\"]#reverse\n",
        "mylist.sort(reverse=True)\n",
        "print(mylist)"
      ],
      "metadata": {
        "colab": {
          "base_uri": "https://localhost:8080/"
        },
        "id": "Furw8zJqdTkz",
        "outputId": "e03e1740-dcea-4967-e30d-33762a313dcd"
      },
      "execution_count": null,
      "outputs": [
        {
          "output_type": "stream",
          "name": "stdout",
          "text": [
            "['Sean', 'Michaell', 'Adam']\n"
          ]
        }
      ]
    },
    {
      "cell_type": "code",
      "source": [
        "mylist=[\"Michaell\", \"Sean\", \"Adam\"]#reverse\n",
        "mylist.reverse()\n",
        "print(mylist)"
      ],
      "metadata": {
        "colab": {
          "base_uri": "https://localhost:8080/"
        },
        "id": "udggL3RkeW91",
        "outputId": "683d6ce2-a52b-4fbf-9886-b358bf4bc98e"
      },
      "execution_count": null,
      "outputs": [
        {
          "output_type": "stream",
          "name": "stdout",
          "text": [
            "['Adam', 'Sean', 'Michaell']\n"
          ]
        }
      ]
    },
    {
      "cell_type": "code",
      "source": [
        "mylist1=[\"Michaell\", \"Sean\", \"Adam\",5000, True]\n",
        "mylist2=[\"Zara\", \"Paul\", \"John\"]\n",
        "mylist3=mylist2+mylist1\n",
        "print(mylist3)"
      ],
      "metadata": {
        "colab": {
          "base_uri": "https://localhost:8080/"
        },
        "id": "PUAnSs0Xe523",
        "outputId": "8bae4c0f-0fca-430d-acc7-bc22998a0d78"
      },
      "execution_count": null,
      "outputs": [
        {
          "output_type": "stream",
          "name": "stdout",
          "text": [
            "['Zara', 'Paul', 'John', 'Michaell', 'Sean', 'Adam', 5000, True]\n"
          ]
        }
      ]
    },
    {
      "cell_type": "code",
      "source": [
        "mylist=[\"Michaell\", \"Sean\", \"Adam\"]#getting help\n",
        "help(mylist.append)"
      ],
      "metadata": {
        "colab": {
          "base_uri": "https://localhost:8080/"
        },
        "id": "OSHNUj69fefL",
        "outputId": "ac0d5371-2450-4c96-ea2a-169751b5c559"
      },
      "execution_count": null,
      "outputs": [
        {
          "output_type": "stream",
          "name": "stdout",
          "text": [
            "Help on built-in function append:\n",
            "\n",
            "append(object, /) method of builtins.list instance\n",
            "    Append object to the end of the list.\n",
            "\n"
          ]
        }
      ]
    },
    {
      "cell_type": "code",
      "source": [
        "mylist=[\"Amazon Prime\", \"Netflix\", \"Spotify\", \"freeview\"]\n",
        "element = input(\"Please input streaming company name (in Capitalised form):\")\n",
        "if element in mylist:\n",
        "  print(\"the streaming company already exists\")\n",
        "else:\n",
        "  mylist.append(element)\n",
        "  print(mylist)\n"
      ],
      "metadata": {
        "colab": {
          "base_uri": "https://localhost:8080/"
        },
        "id": "T9fUfLJsf-V7",
        "outputId": "68461b00-f89d-4419-aeb3-291439bbe44b"
      },
      "execution_count": null,
      "outputs": [
        {
          "output_type": "stream",
          "name": "stdout",
          "text": [
            "Please input streaming company name (in Capitalised form):Spotlight\n",
            "['Amazon Prime', 'Netflix', 'Spotify', 'freeview', 'Spotlight']\n"
          ]
        }
      ]
    },
    {
      "cell_type": "code",
      "source": [
        "mylist=[\"Amazon Prime\", \"Netflix\", \"Spotify\", \"freeview\"]\n",
        "element = input(\"Please input streaming company name (in Capitalised form):\")\n",
        "if element in mylist:\n",
        "  print(\"the streaming company already exists\")\n",
        "else:\n",
        "  mylist.append(element)\n",
        "  print(mylist)\n",
        "  "
      ],
      "metadata": {
        "colab": {
          "base_uri": "https://localhost:8080/"
        },
        "id": "OgU7qtDzkXhs",
        "outputId": "4c20d779-ca30-4abd-a996-e93c976f59e7"
      },
      "execution_count": null,
      "outputs": [
        {
          "output_type": "stream",
          "name": "stdout",
          "text": [
            "Please input streaming company name (in Capitalised form):Netflix\n",
            "the streaming company already exists\n"
          ]
        }
      ]
    },
    {
      "cell_type": "markdown",
      "source": [
        "you can use insert or append function to add values, append will automatically add it to the end"
      ],
      "metadata": {
        "id": "YlCO_6Johe41"
      }
    },
    {
      "cell_type": "markdown",
      "source": [],
      "metadata": {
        "id": "nGB5M0KmkqtT"
      }
    },
    {
      "cell_type": "code",
      "source": [
        "mylist=[\"Amazon Prime\", \"Netflix\", \"Spotify\", \"freeview\"]\n",
        "element = input(\"Please input streaming company name (in Capitalised form):\")\n",
        "if element in mylist:\n",
        "  print(\"the streaming company already exists\")\n",
        "else:\n",
        "  mylist.append(element)\n",
        "  print(mylist)"
      ],
      "metadata": {
        "id": "HKA7iK4zkL2x"
      },
      "execution_count": null,
      "outputs": []
    },
    {
      "cell_type": "markdown",
      "source": [
        "For loop"
      ],
      "metadata": {
        "id": "zrt3Mnyek6IV"
      }
    },
    {
      "cell_type": "code",
      "source": [
        "mylist=[\"Amazon Prime\", \"Netflix\", \"Spotify\", \"freeview\"]\n",
        "print(mylist)\n"
      ],
      "metadata": {
        "colab": {
          "base_uri": "https://localhost:8080/"
        },
        "id": "PGMpk0_Rk8F9",
        "outputId": "83a488ff-d515-4faa-abf7-2782380c359a"
      },
      "execution_count": null,
      "outputs": [
        {
          "output_type": "stream",
          "name": "stdout",
          "text": [
            "['Amazon Prime', 'Netflix', 'Spotify', 'freeview']\n"
          ]
        }
      ]
    },
    {
      "cell_type": "code",
      "source": [
        "mylist=[\"Amazon Prime\", \"Netflix\", \"Spotify\", \"freeview\"]#looping #returning#each item separately\n",
        "for element in mylist:\n",
        "  print(element)"
      ],
      "metadata": {
        "colab": {
          "base_uri": "https://localhost:8080/"
        },
        "id": "445C6rh7lGaK",
        "outputId": "d32c2ded-e9b0-4dbc-b26b-ee4293bd0596"
      },
      "execution_count": null,
      "outputs": [
        {
          "output_type": "stream",
          "name": "stdout",
          "text": [
            "Amazon Prime\n",
            "Netflix\n",
            "Spotify\n",
            "freeview\n"
          ]
        }
      ]
    },
    {
      "cell_type": "markdown",
      "source": [
        "List Comprehension: you can use list comprehension to write your code in one line.\n",
        "Syntax includes expression, iteration and condition (whereby).\n"
      ],
      "metadata": {
        "id": "4mIOTjOZlaOV"
      }
    },
    {
      "cell_type": "code",
      "source": [
        "a=[1,2,3,4,5,6,7]\n",
        "#=2,4,6,8,10,12,14\n",
        "b=[]\n",
        "for i in a:\n",
        "  b.append(i*2)\n",
        "print(b)"
      ],
      "metadata": {
        "colab": {
          "base_uri": "https://localhost:8080/"
        },
        "id": "CV6LmG58lvQh",
        "outputId": "a13730f8-573a-4fe8-b0fa-be495fbe8479"
      },
      "execution_count": null,
      "outputs": [
        {
          "output_type": "stream",
          "name": "stdout",
          "text": [
            "[2, 4, 6, 8, 10, 12, 14]\n"
          ]
        }
      ]
    },
    {
      "cell_type": "code",
      "source": [
        "#shorten code\n",
        "a=[1,2,3,4,5,6,7]\n",
        "b=[i*2 for i in a]# i is the expression and for is the iteration #b condition\n",
        "print(b)\n",
        "\n"
      ],
      "metadata": {
        "colab": {
          "base_uri": "https://localhost:8080/"
        },
        "id": "TpknuqG7muqD",
        "outputId": "a4a30cc5-82e3-447b-fe95-39b93a12d9e6"
      },
      "execution_count": null,
      "outputs": [
        {
          "output_type": "stream",
          "name": "stdout",
          "text": [
            "[2, 4, 6, 8, 10, 12, 14]\n"
          ]
        }
      ]
    },
    {
      "cell_type": "code",
      "source": [
        "mylist=[1000,20,2010,50,95,1021]#conventional way\n",
        "mynewlist=[]\n",
        "for i in mylist:\n",
        "  if i<100:\n",
        "    mynewlist.append(i)\n",
        "print(mynewlist)"
      ],
      "metadata": {
        "colab": {
          "base_uri": "https://localhost:8080/"
        },
        "id": "pC70rOyXnb7I",
        "outputId": "e1f4772d-965e-478a-b5dd-bcd2ccefde39"
      },
      "execution_count": null,
      "outputs": [
        {
          "output_type": "stream",
          "name": "stdout",
          "text": [
            "[20, 50, 95]\n"
          ]
        }
      ]
    },
    {
      "cell_type": "code",
      "source": [
        "mylist=[1000,20,2010,50,95,1021]#comprehention\n",
        "mynewlist=[i for i in mylist if i<100]\n",
        "print(mynewlist) #i is expression "
      ],
      "metadata": {
        "colab": {
          "base_uri": "https://localhost:8080/"
        },
        "id": "23rCJ9eXncDN",
        "outputId": "21acc06e-fd62-4d9d-a7d2-288309f7fc38"
      },
      "execution_count": null,
      "outputs": [
        {
          "output_type": "stream",
          "name": "stdout",
          "text": [
            "[20, 50, 95]\n"
          ]
        }
      ]
    },
    {
      "cell_type": "code",
      "source": [
        "mylist=[\"Michael\",\"Sean\", \"Adam\", \"Zara\"]#converting to uppercase\n",
        "mynewlist=[i.upper() for i in mylist]\n",
        "print(mynewlist)"
      ],
      "metadata": {
        "colab": {
          "base_uri": "https://localhost:8080/"
        },
        "id": "gxXPDmLmpAr8",
        "outputId": "362f8ae2-6313-4f6a-cd0b-18c7fcfa8682"
      },
      "execution_count": null,
      "outputs": [
        {
          "output_type": "stream",
          "name": "stdout",
          "text": [
            "['MICHAEL', 'SEAN', 'ADAM', 'ZARA']\n"
          ]
        }
      ]
    },
    {
      "cell_type": "code",
      "source": [
        "mylist=[\"P\",\"Y\", \"T\", \"H\", \"O\", \"N\"]\n"
      ],
      "metadata": {
        "id": "tBoW_5n-pxU8"
      },
      "execution_count": null,
      "outputs": []
    },
    {
      "cell_type": "code",
      "source": [
        "mylist=[letter.upper() for letter in \"python\"]#comprehention\n",
        "print(mylist)"
      ],
      "metadata": {
        "colab": {
          "base_uri": "https://localhost:8080/"
        },
        "id": "um74YQ6SqS_0",
        "outputId": "94ccd45d-7b19-4593-f0df-05a6ce72087f"
      },
      "execution_count": null,
      "outputs": [
        {
          "output_type": "stream",
          "name": "stdout",
          "text": [
            "['P', 'Y', 'T', 'H', 'O', 'N']\n"
          ]
        }
      ]
    },
    {
      "cell_type": "markdown",
      "source": [
        "A list inside a list...a nested list - sublist"
      ],
      "metadata": {
        "id": "7txwiPOAqdkv"
      }
    },
    {
      "cell_type": "code",
      "source": [
        "mylist=[1,2,[\"a\",1],3] #sublist\n",
        "sublist=mylist[2]\n",
        "print(sublist)\n"
      ],
      "metadata": {
        "colab": {
          "base_uri": "https://localhost:8080/"
        },
        "id": "20iCykqoqkBU",
        "outputId": "201eb803-470f-4f49-f2f3-8a1a07300fed"
      },
      "execution_count": null,
      "outputs": [
        {
          "output_type": "stream",
          "name": "stdout",
          "text": [
            "['a', 1]\n"
          ]
        }
      ]
    },
    {
      "cell_type": "code",
      "source": [
        "mylist=[1,2,[\"a\",1],3]\n",
        "mylist[2][0]\n"
      ],
      "metadata": {
        "colab": {
          "base_uri": "https://localhost:8080/",
          "height": 35
        },
        "id": "Op6NWHBerMTx",
        "outputId": "6fb951fa-30d3-4d17-ee3f-c17f34ccf1d6"
      },
      "execution_count": null,
      "outputs": [
        {
          "output_type": "execute_result",
          "data": {
            "text/plain": [
              "'a'"
            ],
            "application/vnd.google.colaboratory.intrinsic+json": {
              "type": "string"
            }
          },
          "metadata": {},
          "execution_count": 118
        }
      ]
    },
    {
      "cell_type": "code",
      "source": [
        "mylist=[1,2,[\"a\",1],3]\n",
        "mylist[2][1]"
      ],
      "metadata": {
        "colab": {
          "base_uri": "https://localhost:8080/"
        },
        "id": "oWWNvqPlrjPk",
        "outputId": "34121c64-adad-4955-e0fd-be7f57273e41"
      },
      "execution_count": null,
      "outputs": [
        {
          "output_type": "execute_result",
          "data": {
            "text/plain": [
              "1"
            ]
          },
          "metadata": {},
          "execution_count": 119
        }
      ]
    },
    {
      "cell_type": "code",
      "source": [
        "mylist=[1,2,[\"a\",1],3]\n",
        "mylist[3]"
      ],
      "metadata": {
        "colab": {
          "base_uri": "https://localhost:8080/"
        },
        "id": "WuxSwhDmruFD",
        "outputId": "8e18b4d2-dacf-4161-9ce5-7244825091a6"
      },
      "execution_count": null,
      "outputs": [
        {
          "output_type": "execute_result",
          "data": {
            "text/plain": [
              "3"
            ]
          },
          "metadata": {},
          "execution_count": 120
        }
      ]
    },
    {
      "cell_type": "markdown",
      "source": [
        "create a matrix: a list can be used to define and access a matrix\n",
        "roco\n",
        "length formula will give you number of rows"
      ],
      "metadata": {
        "id": "ysUHoZNXsHrc"
      }
    },
    {
      "cell_type": "code",
      "source": [
        "matrix=[[0,1,2],[3,4,5],[6,7,8],[9,10,11]]\n"
      ],
      "metadata": {
        "id": "6KXd8kOjsMON"
      },
      "execution_count": null,
      "outputs": []
    },
    {
      "cell_type": "code",
      "source": [
        "matrix=[[0,1,2,],\n",
        "        [3,4,5],\n",
        "        [6,7,8],\n",
        "        [9,10,11]]\n",
        "rows=len(matrix)\n",
        "cols=len(matrix[0])\n",
        "for i in range(0,rows):\n",
        "  print(matrix[i])"
      ],
      "metadata": {
        "colab": {
          "base_uri": "https://localhost:8080/"
        },
        "id": "AiPkbSeiuGt8",
        "outputId": "871831e8-d231-4ee8-d69f-5c91a73b9cf2"
      },
      "execution_count": null,
      "outputs": [
        {
          "output_type": "stream",
          "name": "stdout",
          "text": [
            "[0, 1, 2]\n",
            "[3, 4, 5]\n",
            "[6, 7, 8]\n",
            "[9, 10, 11]\n"
          ]
        }
      ]
    },
    {
      "cell_type": "code",
      "source": [],
      "metadata": {
        "id": "wdHYi0EPx6P3"
      },
      "execution_count": null,
      "outputs": []
    },
    {
      "cell_type": "markdown",
      "source": [
        "**Dictionaries** They are ordered, changeable and do not allow duplicates.\n",
        "They are written in curly brackets"
      ],
      "metadata": {
        "id": "IGqWJFY4x4IE"
      }
    },
    {
      "cell_type": "code",
      "source": [
        "mydict={\"employee\":\"Zara\", \"department\":\"operations\",\"last salary\":5000}\n",
        "print(mydict['employee'])\n"
      ],
      "metadata": {
        "colab": {
          "base_uri": "https://localhost:8080/"
        },
        "id": "crhDhCaYsh2C",
        "outputId": "8f6f01c7-123a-49c9-b4b8-6a4699ab7ffb"
      },
      "execution_count": null,
      "outputs": [
        {
          "output_type": "stream",
          "name": "stdout",
          "text": [
            "Zara\n"
          ]
        }
      ]
    },
    {
      "cell_type": "code",
      "source": [
        "mydict={\"employee\":\"Zara\", \"department\":\"operations\",\"last salary\":5000}\n",
        "mydict['department']=\"Sales\"\n",
        "print(mydict)"
      ],
      "metadata": {
        "colab": {
          "base_uri": "https://localhost:8080/"
        },
        "id": "l-LHqbSOyvW9",
        "outputId": "5df2f6f3-300a-4756-f400-d29e88353287"
      },
      "execution_count": null,
      "outputs": [
        {
          "output_type": "stream",
          "name": "stdout",
          "text": [
            "{'employee': 'Zara', 'department': 'Sales', 'last salary': 5000}\n"
          ]
        }
      ]
    },
    {
      "cell_type": "code",
      "source": [
        "mydict={\"employee\":\"Zara\", \"department\":\"operations\",\"last salary\":5000}\n",
        "print(len(mydict))"
      ],
      "metadata": {
        "colab": {
          "base_uri": "https://localhost:8080/"
        },
        "id": "fWazuK9SzD9F",
        "outputId": "559015cd-f6e9-4c4c-e1b4-dffb3d0b5c18"
      },
      "execution_count": null,
      "outputs": [
        {
          "output_type": "stream",
          "name": "stdout",
          "text": [
            "3\n"
          ]
        }
      ]
    },
    {
      "cell_type": "code",
      "source": [
        "mydict={\"employee\":\"Zara\", \"department\":\"operations\",\"last salary\":5000}\n",
        "print(type(mydict))"
      ],
      "metadata": {
        "colab": {
          "base_uri": "https://localhost:8080/"
        },
        "id": "VJVvSzM2zkSR",
        "outputId": "87c90ccd-2452-4935-b3d9-1477c37b3e31"
      },
      "execution_count": null,
      "outputs": [
        {
          "output_type": "stream",
          "name": "stdout",
          "text": [
            "<class 'dict'>\n"
          ]
        }
      ]
    },
    {
      "cell_type": "code",
      "source": [
        "mydict={\n",
        "1: {\"employee\":\"Zara\", \"department\":\"operations\",\"last salary\":5000}\n",
        "2: {\"employee\":\"Sean\", \"department\": \"sales\",last salary\":4000}\n",
        "}\n",
        "print(mydict"
      ],
      "metadata": {
        "id": "2MYSUWThzt-6"
      },
      "execution_count": null,
      "outputs": []
    },
    {
      "cell_type": "code",
      "source": [
        "mydict={\"employee\":\"Zara\", \"department\":\"operations\",\"last salary\":5000}\n",
        "mydict.values()"
      ],
      "metadata": {
        "colab": {
          "base_uri": "https://localhost:8080/"
        },
        "id": "UQzZthTF0Uio",
        "outputId": "38f4cc4e-4e23-4254-854e-b47ded28f5e6"
      },
      "execution_count": null,
      "outputs": [
        {
          "output_type": "execute_result",
          "data": {
            "text/plain": [
              "dict_values(['Zara', 'operations', 5000])"
            ]
          },
          "metadata": {},
          "execution_count": 135
        }
      ]
    },
    {
      "cell_type": "code",
      "source": [
        "mydict={\"employee\":\"Zara\", \"department\":\"operations\",\"last salary\":5000}\n",
        "mydict.items()"
      ],
      "metadata": {
        "colab": {
          "base_uri": "https://localhost:8080/"
        },
        "id": "dZp2NzLy0jMC",
        "outputId": "2bfd76d7-f2aa-4e11-9cf4-3de5be2beda6"
      },
      "execution_count": null,
      "outputs": [
        {
          "output_type": "execute_result",
          "data": {
            "text/plain": [
              "dict_items([('employee', 'Zara'), ('department', 'operations'), ('last salary', 5000)])"
            ]
          },
          "metadata": {},
          "execution_count": 136
        }
      ]
    },
    {
      "cell_type": "code",
      "source": [
        "mydict={\"employee\":\"Zara\", \"department\":\"operations\",\"last salary\":5000}\n",
        "if \"department\" in mydict:\n",
        "  print(\"yes the key exists\")\n"
      ],
      "metadata": {
        "colab": {
          "base_uri": "https://localhost:8080/"
        },
        "id": "jFiB9Y-D0tju",
        "outputId": "f749a10c-36ca-4e4f-c6b0-db7c3d3cd19d"
      },
      "execution_count": null,
      "outputs": [
        {
          "output_type": "stream",
          "name": "stdout",
          "text": [
            "yes the key exists\n"
          ]
        }
      ]
    },
    {
      "cell_type": "code",
      "source": [
        "mydict={\"employee\":\"Zara\", \"department\":\"operations\",\"last salary\":5000}\n",
        "mydict.update({\"status\": \"permanent\"})\n",
        "print(mydict)"
      ],
      "metadata": {
        "colab": {
          "base_uri": "https://localhost:8080/"
        },
        "id": "1kuS8McI1Bd8",
        "outputId": "a30cc65a-06e1-4596-de9d-0500c7bafe16"
      },
      "execution_count": null,
      "outputs": [
        {
          "output_type": "stream",
          "name": "stdout",
          "text": [
            "{'employee': 'Zara', 'department': 'operations', 'last salary': 5000, 'status': 'permanent'}\n"
          ]
        }
      ]
    },
    {
      "cell_type": "code",
      "source": [
        "mydict={\"employee\":\"Zara\", \"department\":\"operations\",\"last salary\":5000}\n",
        "del mydict\n",
        "print(mydict)\n"
      ],
      "metadata": {
        "colab": {
          "base_uri": "https://localhost:8080/",
          "height": 201
        },
        "id": "AklaHf0y2DK2",
        "outputId": "820fc9c0-a0a0-41ea-9f17-07f0c7b9543a"
      },
      "execution_count": null,
      "outputs": [
        {
          "output_type": "error",
          "ename": "NameError",
          "evalue": "ignored",
          "traceback": [
            "\u001b[0;31m---------------------------------------------------------------------------\u001b[0m",
            "\u001b[0;31mNameError\u001b[0m                                 Traceback (most recent call last)",
            "\u001b[0;32m<ipython-input-143-f260ef5af634>\u001b[0m in \u001b[0;36m<module>\u001b[0;34m\u001b[0m\n\u001b[1;32m      1\u001b[0m \u001b[0mmydict\u001b[0m\u001b[0;34m=\u001b[0m\u001b[0;34m{\u001b[0m\u001b[0;34m\"employee\"\u001b[0m\u001b[0;34m:\u001b[0m\u001b[0;34m\"Zara\"\u001b[0m\u001b[0;34m,\u001b[0m \u001b[0;34m\"department\"\u001b[0m\u001b[0;34m:\u001b[0m\u001b[0;34m\"operations\"\u001b[0m\u001b[0;34m,\u001b[0m\u001b[0;34m\"last salary\"\u001b[0m\u001b[0;34m:\u001b[0m\u001b[0;36m5000\u001b[0m\u001b[0;34m}\u001b[0m\u001b[0;34m\u001b[0m\u001b[0;34m\u001b[0m\u001b[0m\n\u001b[1;32m      2\u001b[0m \u001b[0;32mdel\u001b[0m \u001b[0mmydict\u001b[0m\u001b[0;34m\u001b[0m\u001b[0;34m\u001b[0m\u001b[0m\n\u001b[0;32m----> 3\u001b[0;31m \u001b[0mprint\u001b[0m\u001b[0;34m(\u001b[0m\u001b[0mmydict\u001b[0m\u001b[0;34m)\u001b[0m\u001b[0;34m\u001b[0m\u001b[0;34m\u001b[0m\u001b[0m\n\u001b[0m",
            "\u001b[0;31mNameError\u001b[0m: name 'mydict' is not defined"
          ]
        }
      ]
    },
    {
      "cell_type": "code",
      "source": [
        "from typing import ValuesView\n",
        "mydict={\"employee\":\"Zara\", \"department\":\"operations\",\"last salary\":5000}\n",
        "for item in mydict.keys():\n",
        "  print(item)"
      ],
      "metadata": {
        "colab": {
          "base_uri": "https://localhost:8080/"
        },
        "id": "PY0OGbIN2epj",
        "outputId": "c7506eaa-1d19-44d6-b8fe-90b90cc4f154"
      },
      "execution_count": null,
      "outputs": [
        {
          "output_type": "stream",
          "name": "stdout",
          "text": [
            "employee\n",
            "department\n",
            "last salary\n"
          ]
        }
      ]
    },
    {
      "cell_type": "code",
      "source": [
        "mydict={\"employee\":\"Zara\", \"department\":\"operations\",\"last salary\":5000}\n",
        "for keys,values in mydict.items():\n",
        "  print(keys,values)"
      ],
      "metadata": {
        "colab": {
          "base_uri": "https://localhost:8080/"
        },
        "id": "AXmxnX3r2wnD",
        "outputId": "120810f6-3d6e-4210-a046-175691fd76f3"
      },
      "execution_count": null,
      "outputs": [
        {
          "output_type": "stream",
          "name": "stdout",
          "text": [
            "employee Zara\n",
            "department operations\n",
            "last salary 5000\n"
          ]
        }
      ]
    },
    {
      "cell_type": "code",
      "source": [
        "mydict={\"Mother\":\"Susan\", \"First Child\": \"Darbi\", \"Second Child\":\"Jack\"}\n",
        "for keys, values in mydict.items():\n",
        "  print(keys, values)"
      ],
      "metadata": {
        "colab": {
          "base_uri": "https://localhost:8080/"
        },
        "id": "v6qo_D5u3KeW",
        "outputId": "d065e143-f258-4ddd-aab7-15f18f7b1d13"
      },
      "execution_count": null,
      "outputs": [
        {
          "output_type": "stream",
          "name": "stdout",
          "text": [
            "Mother Susan\n",
            "First Child Darbi\n",
            "Second Child Jack\n"
          ]
        }
      ]
    },
    {
      "cell_type": "code",
      "source": [
        "mydict={\"Mother\":\"Susan\", \"First Child\": \"Darbi\", \"Second Child\":\"Jack\"}\n",
        "delmydict[\"Mother\" , \"Susan\"]\n",
        "print(mydict)"
      ],
      "metadata": {
        "colab": {
          "base_uri": "https://localhost:8080/",
          "height": 201
        },
        "id": "W2eZHWoT4MPR",
        "outputId": "09b50cf5-83d2-42c7-cd0b-d61072ac12bd"
      },
      "execution_count": null,
      "outputs": [
        {
          "output_type": "error",
          "ename": "NameError",
          "evalue": "ignored",
          "traceback": [
            "\u001b[0;31m---------------------------------------------------------------------------\u001b[0m",
            "\u001b[0;31mNameError\u001b[0m                                 Traceback (most recent call last)",
            "\u001b[0;32m<ipython-input-149-1aece4174259>\u001b[0m in \u001b[0;36m<module>\u001b[0;34m\u001b[0m\n\u001b[1;32m      1\u001b[0m \u001b[0mmydict\u001b[0m\u001b[0;34m=\u001b[0m\u001b[0;34m{\u001b[0m\u001b[0;34m\"Mother\"\u001b[0m\u001b[0;34m:\u001b[0m\u001b[0;34m\"Susan\"\u001b[0m\u001b[0;34m,\u001b[0m \u001b[0;34m\"First Child\"\u001b[0m\u001b[0;34m:\u001b[0m \u001b[0;34m\"Darbi\"\u001b[0m\u001b[0;34m,\u001b[0m \u001b[0;34m\"Second Child\"\u001b[0m\u001b[0;34m:\u001b[0m\u001b[0;34m\"Jack\"\u001b[0m\u001b[0;34m}\u001b[0m\u001b[0;34m\u001b[0m\u001b[0;34m\u001b[0m\u001b[0m\n\u001b[0;32m----> 2\u001b[0;31m \u001b[0mdelmydict\u001b[0m\u001b[0;34m[\u001b[0m\u001b[0;34m\"Mother\"\u001b[0m \u001b[0;34m,\u001b[0m \u001b[0;34m\"Susan\"\u001b[0m\u001b[0;34m]\u001b[0m\u001b[0;34m\u001b[0m\u001b[0;34m\u001b[0m\u001b[0m\n\u001b[0m\u001b[1;32m      3\u001b[0m \u001b[0mprint\u001b[0m\u001b[0;34m(\u001b[0m\u001b[0mmydict\u001b[0m\u001b[0;34m)\u001b[0m\u001b[0;34m\u001b[0m\u001b[0;34m\u001b[0m\u001b[0m\n",
            "\u001b[0;31mNameError\u001b[0m: name 'delmydict' is not defined"
          ]
        }
      ]
    },
    {
      "cell_type": "markdown",
      "source": [
        "Tuples: "
      ],
      "metadata": {
        "id": "KZSpe_-z4zrJ"
      }
    },
    {
      "cell_type": "code",
      "source": [
        "mytuple=(\"Audi\", \"Ford\", \"Tesla\", 5000, True)\n",
        "type(mytuple)"
      ],
      "metadata": {
        "colab": {
          "base_uri": "https://localhost:8080/"
        },
        "id": "wU_nEPiM4-cQ",
        "outputId": "9b08d0ec-418d-4902-8d3a-910e0ee61564"
      },
      "execution_count": null,
      "outputs": [
        {
          "output_type": "execute_result",
          "data": {
            "text/plain": [
              "tuple"
            ]
          },
          "metadata": {},
          "execution_count": 151
        }
      ]
    },
    {
      "cell_type": "code",
      "source": [
        "mytuple=(\"Audi\", \"Ford\", \"Tesla\", 5000, True)\n",
        "mytuple[1]"
      ],
      "metadata": {
        "colab": {
          "base_uri": "https://localhost:8080/",
          "height": 35
        },
        "id": "oiAahdAd5YXL",
        "outputId": "f817e713-95e7-472b-8f00-45a19731c6e3"
      },
      "execution_count": null,
      "outputs": [
        {
          "output_type": "execute_result",
          "data": {
            "text/plain": [
              "'Ford'"
            ],
            "application/vnd.google.colaboratory.intrinsic+json": {
              "type": "string"
            }
          },
          "metadata": {},
          "execution_count": 153
        }
      ]
    },
    {
      "cell_type": "code",
      "source": [
        "mytuple=(\"Audi\", \"Ford\", \"Tesla\", 5000, True)\n",
        "mytuple[0:3]"
      ],
      "metadata": {
        "colab": {
          "base_uri": "https://localhost:8080/"
        },
        "id": "14FsKAlw5qSd",
        "outputId": "165bb35d-c05b-4b23-d5a9-f3c91d507f3a"
      },
      "execution_count": null,
      "outputs": [
        {
          "output_type": "execute_result",
          "data": {
            "text/plain": [
              "('Audi', 'Ford', 'Tesla')"
            ]
          },
          "metadata": {},
          "execution_count": 155
        }
      ]
    },
    {
      "cell_type": "code",
      "source": [
        "mytuple=(\"Audi\", \"Ford\", \"Tesla\", 5000, True)\n",
        "mylist=list(mytuple)#changing tple to a list\n",
        "mylist[0]=\"Toyota\"\n",
        "mytuple=tuple(mylist)#changing to a tuple\n",
        "print(mytuple)"
      ],
      "metadata": {
        "colab": {
          "base_uri": "https://localhost:8080/"
        },
        "id": "kWFrWsl-53_r",
        "outputId": "520e37bd-2530-4c10-ff66-ad5ebf38378b"
      },
      "execution_count": null,
      "outputs": [
        {
          "output_type": "stream",
          "name": "stdout",
          "text": [
            "('Toyota', 'Ford', 'Tesla', 5000, True)\n"
          ]
        }
      ]
    },
    {
      "cell_type": "code",
      "source": [
        "mytuple=(\"Audi\", \"Ford\", \"Tesla\", 5000, True)\n",
        "mytuple.count(\"Audi\")"
      ],
      "metadata": {
        "colab": {
          "base_uri": "https://localhost:8080/"
        },
        "id": "4VQgPt8p6YaK",
        "outputId": "8459428b-f77a-40f9-ea9b-2a2be6fae7c9"
      },
      "execution_count": null,
      "outputs": [
        {
          "output_type": "execute_result",
          "data": {
            "text/plain": [
              "1"
            ]
          },
          "metadata": {},
          "execution_count": 158
        }
      ]
    },
    {
      "cell_type": "code",
      "source": [
        "mytuple=(\"Audi\", \"Ford\", \"Tesla\", 5000, True)\n",
        "mytuple.index(\"Tesla\")"
      ],
      "metadata": {
        "colab": {
          "base_uri": "https://localhost:8080/"
        },
        "id": "eWeeQG6s6hJ6",
        "outputId": "669b5bd4-b78d-4a84-fcc1-3db24c4afa66"
      },
      "execution_count": null,
      "outputs": [
        {
          "output_type": "execute_result",
          "data": {
            "text/plain": [
              "2"
            ]
          },
          "metadata": {},
          "execution_count": 159
        }
      ]
    },
    {
      "cell_type": "code",
      "source": [
        "mytuple=(\"Audi\", \"Ford\", \"Tesla\", 5000, True)\n",
        "for i in mytuple:\n",
        "  print(i)  "
      ],
      "metadata": {
        "colab": {
          "base_uri": "https://localhost:8080/"
        },
        "id": "Mh-fs1ZC6oud",
        "outputId": "129e0515-6915-44a1-e03d-6f80c6b58c63"
      },
      "execution_count": null,
      "outputs": [
        {
          "output_type": "stream",
          "name": "stdout",
          "text": [
            "Audi\n",
            "Ford\n",
            "Tesla\n",
            "5000\n",
            "True\n"
          ]
        }
      ]
    },
    {
      "cell_type": "code",
      "source": [
        "mytuple=(\"Audi\", \"Ford\", \"Tesla\")#packing\n",
        "car1,car2,car3=mytuple#unpacking\n",
        "print(car1)\n",
        "print(car2)\n",
        "print(car3)"
      ],
      "metadata": {
        "colab": {
          "base_uri": "https://localhost:8080/"
        },
        "id": "DvC-GKzw627v",
        "outputId": "adb45ee1-827f-4e29-f118-8d300c94c516"
      },
      "execution_count": null,
      "outputs": [
        {
          "output_type": "stream",
          "name": "stdout",
          "text": [
            "Audi\n",
            "Ford\n",
            "Tesla\n"
          ]
        }
      ]
    },
    {
      "cell_type": "markdown",
      "source": [
        "Sets: changeable, written in curly brackets. Use booleans etc"
      ],
      "metadata": {
        "id": "-cFWsj677bSi"
      }
    },
    {
      "cell_type": "code",
      "source": [
        "myset={\"Audi\", \"Ford\", \"Tesla\", 5000, True}\n",
        "print(myset)\n",
        "len(myset)\n",
        "type(myset)"
      ],
      "metadata": {
        "colab": {
          "base_uri": "https://localhost:8080/"
        },
        "id": "MfOOLEyj7h80",
        "outputId": "e9b219aa-a3d0-428b-ca0a-fae3b6b5ae98"
      },
      "execution_count": null,
      "outputs": [
        {
          "output_type": "stream",
          "name": "stdout",
          "text": [
            "{True, 5000, 'Tesla', 'Audi', 'Ford'}\n"
          ]
        },
        {
          "output_type": "execute_result",
          "data": {
            "text/plain": [
              "set"
            ]
          },
          "metadata": {},
          "execution_count": 166
        }
      ]
    },
    {
      "cell_type": "code",
      "source": [
        "mytuple={\"Audi\", \"Ford\", \"Tesla\", 5000, True}\n",
        "for i in myset:\n",
        "  print(i)\n"
      ],
      "metadata": {
        "colab": {
          "base_uri": "https://localhost:8080/"
        },
        "id": "vJy34koW7vYi",
        "outputId": "41833865-f937-481c-f6b4-b2506ea1a558"
      },
      "execution_count": null,
      "outputs": [
        {
          "output_type": "stream",
          "name": "stdout",
          "text": [
            "True\n",
            "5000\n",
            "Tesla\n",
            "Audi\n",
            "Ford\n"
          ]
        }
      ]
    },
    {
      "cell_type": "code",
      "source": [
        "mytuple={\"Audi\", \"Ford\", \"Tesla\", 5000, True}#this is unordered\n",
        "myset.add(\"apples\")\n",
        "print(myset)"
      ],
      "metadata": {
        "colab": {
          "base_uri": "https://localhost:8080/"
        },
        "id": "6dHtNokv8MBg",
        "outputId": "b863903c-ac22-4301-aa72-8224805b6e02"
      },
      "execution_count": null,
      "outputs": [
        {
          "output_type": "stream",
          "name": "stdout",
          "text": [
            "{True, 5000, 'Tesla', 'Audi', 'Ford', 'apples'}\n"
          ]
        }
      ]
    },
    {
      "cell_type": "code",
      "source": [
        "mytuple={\"Audi\", \"Ford\", \"Tesla\", 5000, True}\n",
        "myset.pop()\n",
        "print(myset)"
      ],
      "metadata": {
        "colab": {
          "base_uri": "https://localhost:8080/"
        },
        "id": "mei6ACY38vht",
        "outputId": "8c447ca4-6c76-4127-a834-abbd535575a6"
      },
      "execution_count": null,
      "outputs": [
        {
          "output_type": "stream",
          "name": "stdout",
          "text": [
            "{5000, 'Tesla', 'Audi', 'Ford', 'apples'}\n"
          ]
        }
      ]
    },
    {
      "cell_type": "code",
      "source": [
        "myset1={3,4}\n",
        "myset2={1,2,3,4,5,6}\n",
        "myset1.intersection(myset2)\n",
        "1"
      ],
      "metadata": {
        "colab": {
          "base_uri": "https://localhost:8080/"
        },
        "id": "n4CRTXlR9ASt",
        "outputId": "7a9e592e-6fcc-437f-ab6b-fa86805b984c"
      },
      "execution_count": null,
      "outputs": [
        {
          "output_type": "execute_result",
          "data": {
            "text/plain": [
              "1"
            ]
          },
          "metadata": {},
          "execution_count": 174
        }
      ]
    },
    {
      "cell_type": "markdown",
      "source": [],
      "metadata": {
        "id": "xlaRauNy9xtJ"
      }
    },
    {
      "cell_type": "code",
      "source": [
        "myset1={3,4}\n",
        "myset={1,2,3,4,5,6}\n",
        "myset1.issubset(myset2)"
      ],
      "metadata": {
        "colab": {
          "base_uri": "https://localhost:8080/"
        },
        "id": "dvl97vuV91Ix",
        "outputId": "2f3124f5-c8a6-42b9-a04a-36778cd4aa09"
      },
      "execution_count": null,
      "outputs": [
        {
          "output_type": "execute_result",
          "data": {
            "text/plain": [
              "True"
            ]
          },
          "metadata": {},
          "execution_count": 176
        }
      ]
    },
    {
      "cell_type": "markdown",
      "source": [
        "Libraries\n",
        "Pythons have libraries, 1000s. this makes coding easier. These are prewritten codes"
      ],
      "metadata": {
        "id": "dR6MIFOF-Sw9"
      }
    },
    {
      "cell_type": "code",
      "source": [
        "import numpy as np\n"
      ],
      "metadata": {
        "id": "xdF23GZy-o0F"
      },
      "execution_count": null,
      "outputs": []
    },
    {
      "cell_type": "code",
      "source": [
        "import pandas as pd"
      ],
      "metadata": {
        "id": "owJcW3Mg-0z_"
      },
      "execution_count": null,
      "outputs": []
    },
    {
      "cell_type": "code",
      "source": [
        "import matplotlib.pyplot as plt\n"
      ],
      "metadata": {
        "id": "zN1eDHBp-5xY"
      },
      "execution_count": null,
      "outputs": []
    },
    {
      "cell_type": "code",
      "source": [
        "import seaborn as sns"
      ],
      "metadata": {
        "id": "FaBkPgAY_HZo"
      },
      "execution_count": null,
      "outputs": []
    },
    {
      "cell_type": "code",
      "source": [
        "import math"
      ],
      "metadata": {
        "id": "9zlO5qLl_Ovv"
      },
      "execution_count": null,
      "outputs": []
    },
    {
      "cell_type": "code",
      "source": [
        "import scipy"
      ],
      "metadata": {
        "id": "-3UfjCry_UcH"
      },
      "execution_count": null,
      "outputs": []
    },
    {
      "cell_type": "code",
      "source": [
        "import pyodc"
      ],
      "metadata": {
        "colab": {
          "base_uri": "https://localhost:8080/",
          "height": 305
        },
        "id": "jZnEOTbF_fAN",
        "outputId": "c67b19c0-b8cf-4397-c194-011a661f9002"
      },
      "execution_count": null,
      "outputs": [
        {
          "output_type": "error",
          "ename": "ModuleNotFoundError",
          "evalue": "ignored",
          "traceback": [
            "\u001b[0;31m---------------------------------------------------------------------------\u001b[0m",
            "\u001b[0;31mModuleNotFoundError\u001b[0m                       Traceback (most recent call last)",
            "\u001b[0;32m<ipython-input-183-29e418d2c018>\u001b[0m in \u001b[0;36m<module>\u001b[0;34m\u001b[0m\n\u001b[0;32m----> 1\u001b[0;31m \u001b[0;32mimport\u001b[0m \u001b[0mpyodc\u001b[0m\u001b[0;34m\u001b[0m\u001b[0;34m\u001b[0m\u001b[0m\n\u001b[0m",
            "\u001b[0;31mModuleNotFoundError\u001b[0m: No module named 'pyodc'",
            "",
            "\u001b[0;31m---------------------------------------------------------------------------\u001b[0;32m\nNOTE: If your import is failing due to a missing package, you can\nmanually install dependencies using either !pip or !apt.\n\nTo view examples of installing some common dependencies, click the\n\"Open Examples\" button below.\n\u001b[0;31m---------------------------------------------------------------------------\u001b[0m\n"
          ],
          "errorDetails": {
            "actions": [
              {
                "action": "open_url",
                "actionText": "Open Examples",
                "url": "/notebooks/snippets/importing_libraries.ipynb"
              }
            ]
          }
        }
      ]
    },
    {
      "cell_type": "code",
      "source": [
        "!pip install pyodc \n",
        "import pyodc"
      ],
      "metadata": {
        "colab": {
          "base_uri": "https://localhost:8080/"
        },
        "id": "pXyMNMaW_0VN",
        "outputId": "e5c40b63-f3ee-44a8-b1f5-7cb1373d0763"
      },
      "execution_count": null,
      "outputs": [
        {
          "output_type": "stream",
          "name": "stdout",
          "text": [
            "Looking in indexes: https://pypi.org/simple, https://us-python.pkg.dev/colab-wheels/public/simple/\n",
            "Collecting pyodc\n",
            "  Downloading pyodc-1.1.4.tar.gz (26 kB)\n",
            "  Installing build dependencies ... \u001b[?25l\u001b[?25hdone\n",
            "  Getting requirements to build wheel ... \u001b[?25l\u001b[?25hdone\n",
            "    Preparing wheel metadata ... \u001b[?25l\u001b[?25hdone\n",
            "Requirement already satisfied: pandas in /usr/local/lib/python3.7/dist-packages (from pyodc) (1.3.5)\n",
            "Requirement already satisfied: cffi in /usr/local/lib/python3.7/dist-packages (from pyodc) (1.15.1)\n",
            "Requirement already satisfied: pycparser in /usr/local/lib/python3.7/dist-packages (from cffi->pyodc) (2.21)\n",
            "Requirement already satisfied: numpy>=1.17.3 in /usr/local/lib/python3.7/dist-packages (from pandas->pyodc) (1.21.6)\n",
            "Requirement already satisfied: python-dateutil>=2.7.3 in /usr/local/lib/python3.7/dist-packages (from pandas->pyodc) (2.8.2)\n",
            "Requirement already satisfied: pytz>=2017.3 in /usr/local/lib/python3.7/dist-packages (from pandas->pyodc) (2022.6)\n",
            "Requirement already satisfied: six>=1.5 in /usr/local/lib/python3.7/dist-packages (from python-dateutil>=2.7.3->pandas->pyodc) (1.15.0)\n",
            "Building wheels for collected packages: pyodc\n",
            "  Building wheel for pyodc (PEP 517) ... \u001b[?25l\u001b[?25hdone\n",
            "  Created wheel for pyodc: filename=pyodc-1.1.4-py3-none-any.whl size=28062 sha256=29a298a41ce53389214673b8ba4639a65476b0b563f1d937c04b10155cf77a69\n",
            "  Stored in directory: /root/.cache/pip/wheels/cb/ea/82/e6d792d2557f2b621a829b888a93051f52894fb75b200bbb7c\n",
            "Successfully built pyodc\n",
            "Installing collected packages: pyodc\n",
            "Successfully installed pyodc-1.1.4\n"
          ]
        }
      ]
    }
  ]
}