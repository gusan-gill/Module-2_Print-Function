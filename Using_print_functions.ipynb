{
  "nbformat": 4,
  "nbformat_minor": 0,
  "metadata": {
    "colab": {
      "provenance": [],
      "collapsed_sections": [],
      "authorship_tag": "ABX9TyNuXGp/KvPakCGdR4z5lyTr",
      "include_colab_link": true
    },
    "kernelspec": {
      "name": "python3",
      "display_name": "Python 3"
    },
    "language_info": {
      "name": "python"
    }
  },
  "cells": [
    {
      "cell_type": "markdown",
      "metadata": {
        "id": "view-in-github",
        "colab_type": "text"
      },
      "source": [
        "<a href=\"https://colab.research.google.com/github/gusan-gill/Module-2_Print-Function/blob/main/Using_print_functions.ipynb\" target=\"_parent\"><img src=\"https://colab.research.google.com/assets/colab-badge.svg\" alt=\"Open In Colab\"/></a>"
      ]
    },
    {
      "cell_type": "markdown",
      "source": [
        "Here we were given the output and asked to find the code. I used the escape new (\"\\n\") line argument to create a second and third line. I used the (\\) escape character to change the use of the (\"\") speech marks when adding them to the string. This allowed Python to put the speech marks in the console, thus avoiding an error."
      ],
      "metadata": {
        "id": "fPz51yV42fy9"
      }
    },
    {
      "cell_type": "code",
      "source": [
        "print(\"\\\"I'm\\\"\" \"\\n\" \"\\\"\\\"learning\\\"\\\"\" \"\\n\" \"\\\"\\\"\\\"Python\\\"\\\"\\\"\" )"
      ],
      "metadata": {
        "colab": {
          "base_uri": "https://localhost:8080/"
        },
        "id": "hDGLHzTc2doa",
        "outputId": "89de1121-5a67-46d0-dc42-9bac4a9b2811"
      },
      "execution_count": 6,
      "outputs": [
        {
          "output_type": "stream",
          "name": "stdout",
          "text": [
            "\"I'm\"\n",
            "\"\"learning\"\"\n",
            "\"\"\"Python\"\"\"\n"
          ]
        }
      ]
    }
  ]
}