{
  "nbformat": 4,
  "nbformat_minor": 0,
  "metadata": {
    "colab": {
      "provenance": [],
      "collapsed_sections": [],
      "authorship_tag": "ABX9TyP1fR1jfWZCK+FVZtywVgru",
      "include_colab_link": true
    },
    "kernelspec": {
      "name": "python3",
      "display_name": "Python 3"
    },
    "language_info": {
      "name": "python"
    }
  },
  "cells": [
    {
      "cell_type": "markdown",
      "metadata": {
        "id": "view-in-github",
        "colab_type": "text"
      },
      "source": [
        "<a href=\"https://colab.research.google.com/github/gusan-gill/Module-2_Print-Function/blob/main/Using_print_functions.ipynb\" target=\"_parent\"><img src=\"https://colab.research.google.com/assets/colab-badge.svg\" alt=\"Open In Colab\"/></a>"
      ]
    },
    {
      "cell_type": "markdown",
      "source": [
        "Here we were given the output and asked to find the code. I used the \"end\" argument to create a second line with the word \"\"\"learning\"\"\"\" and then \"\\n\" (escape newline) for the second and third lines. I used the (\\)value to change the use of the \"\" when adding them to the string, allowin Python to know to put the speech marks in the console."
      ],
      "metadata": {
        "id": "fPz51yV42fy9"
      }
    },
    {
      "cell_type": "code",
      "source": [
        "print(\"\\\"I'm\\\"\", end=\"\\n\" \"\\\"\\\"learning\\\"\\\"\" \"\\n\" \"\\\"\\\"\\\"Python\\\"\\\"\\\"\" )"
      ],
      "metadata": {
        "colab": {
          "base_uri": "https://localhost:8080/"
        },
        "id": "hDGLHzTc2doa",
        "outputId": "745c4d1d-0048-4902-a691-cd182d5fc5b1"
      },
      "execution_count": 5,
      "outputs": [
        {
          "output_type": "stream",
          "name": "stdout",
          "text": [
            "\"I'm\"\n",
            "\"\"learning\"\"\n",
            "\"\"\"Python\"\"\""
          ]
        }
      ]
    }
  ]
}